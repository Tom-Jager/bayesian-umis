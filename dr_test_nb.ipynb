{
 "cells": [
  {
   "cell_type": "code",
   "execution_count": 1,
   "metadata": {},
   "outputs": [
    {
     "name": "stderr",
     "output_type": "stream",
     "text": [
      "WARNING (theano.tensor.blas): Using NumPy C-API based implementation for BLAS functions.\n"
     ]
    }
   ],
   "source": [
    "import pymc3 as pm\n",
    "\n",
    "from bayesumis.umis_math_model import UmisMathModel\n",
    "from bayesumis.umis_diagram import UmisDiagram\n",
    "from stafdb.staf_factory import StafFactory\n",
    "from testhelper.posterior_plotters import display_parameters"
   ]
  },
  {
   "cell_type": "code",
   "execution_count": 2,
   "metadata": {},
   "outputs": [],
   "source": [
    "staf_factory = StafFactory('csvs_dr_test')\n",
    "\n",
    "external_inflows = staf_factory.build_stafs(['1'])\n",
    "internal_stafs = staf_factory.build_stafs([])\n",
    "external_outflows = staf_factory.build_stafs(['2','3'])\n",
    "\n",
    "ref_material = staf_factory.build_material('1')\n",
    "ref_timeframe = staf_factory.build_timeframe('1')"
   ]
  },
  {
   "cell_type": "code",
   "execution_count": 3,
   "metadata": {},
   "outputs": [],
   "source": [
    "umis_diagram = UmisDiagram(\n",
    "    external_inflows,\n",
    "    internal_stafs,\n",
    "    external_outflows\n",
    ")"
   ]
  },
  {
   "cell_type": "code",
   "execution_count": 4,
   "metadata": {},
   "outputs": [],
   "source": [
    "res_inflows = umis_diagram.get_external_inflows()\n",
    "res_dict = umis_diagram.get_process_stafs_dict()\n",
    "res_outflows = umis_diagram.get_external_outflows()"
   ]
  },
  {
   "cell_type": "code",
   "execution_count": 5,
   "metadata": {},
   "outputs": [
    {
     "name": "stdout",
     "output_type": "stream",
     "text": [
      "Staf: Flow1, ID: 1\n",
      "\n",
      "\n",
      "Process: TP2: Test Process 2, STAFDB ID: 2\n",
      "\n",
      "\n",
      "\n",
      "Outflows\n",
      "Staf: Flow2, ID: 3\n",
      "Outflows\n",
      "Staf: Stock1, ID: 2\n"
     ]
    }
   ],
   "source": [
    "for x in res_inflows:\n",
    "    print(x)\n",
    "    \n",
    "print()\n",
    "print()\n",
    "\n",
    "for key, values in res_dict.items():\n",
    "    print(key)\n",
    "    for val in values:\n",
    "        print(val)\n",
    "    print()\n",
    "    \n",
    "print()\n",
    "print()\n",
    "\n",
    "for x in res_outflows:\n",
    "    print(\"Outflows\")\n",
    "    print(x)"
   ]
  },
  {
   "cell_type": "code",
   "execution_count": 6,
   "metadata": {},
   "outputs": [
    {
     "name": "stderr",
     "output_type": "stream",
     "text": [
      "/home/tom/anaconda3/envs/bayesian-mfa-paper/lib/python3.7/site-packages/theano/tensor/subtensor.py:2197: FutureWarning: Using a non-tuple sequence for multidimensional indexing is deprecated; use `arr[tuple(seq)]` instead of `arr[seq]`. In the future this will be interpreted as an array index, `arr[np.array(seq)]`, which will result either in an error or a different result.\n",
      "  rval = inputs[0].__getitem__(inputs[1:])\n",
      "/home/tom/anaconda3/envs/bayesian-mfa-paper/lib/python3.7/site-packages/theano/tensor/subtensor.py:2339: FutureWarning: Using a non-tuple sequence for multidimensional indexing is deprecated; use `arr[tuple(seq)]` instead of `arr[seq]`. In the future this will be interpreted as an array index, `arr[np.array(seq)]`, which will result either in an error or a different result.\n",
      "  out[0][inputs[2:]] = inputs[1]\n"
     ]
    }
   ],
   "source": [
    "math_model = UmisMathModel(\n",
    "    res_inflows,\n",
    "    res_dict,\n",
    "    res_outflows,\n",
    "    ref_material,\n",
    "    ref_timeframe)"
   ]
  },
  {
   "cell_type": "code",
   "execution_count": 7,
   "metadata": {},
   "outputs": [
    {
     "name": "stderr",
     "output_type": "stream",
     "text": [
      "Auto-assigning NUTS sampler...\n",
      "Initializing NUTS using advi...\n",
      "  0%|          | 0/200000 [00:00<?, ?it/s]/home/tom/anaconda3/envs/bayesian-mfa-paper/lib/python3.7/site-packages/theano/tensor/subtensor.py:2339: FutureWarning: Using a non-tuple sequence for multidimensional indexing is deprecated; use `arr[tuple(seq)]` instead of `arr[seq]`. In the future this will be interpreted as an array index, `arr[np.array(seq)]`, which will result either in an error or a different result.\n",
      "  out[0][inputs[2:]] = inputs[1]\n",
      "/home/tom/anaconda3/envs/bayesian-mfa-paper/lib/python3.7/site-packages/theano/tensor/subtensor.py:2197: FutureWarning: Using a non-tuple sequence for multidimensional indexing is deprecated; use `arr[tuple(seq)]` instead of `arr[seq]`. In the future this will be interpreted as an array index, `arr[np.array(seq)]`, which will result either in an error or a different result.\n",
      "  rval = inputs[0].__getitem__(inputs[1:])\n",
      "Average Loss = 9.6105:   4%|▍         | 8796/200000 [00:07<03:10, 1003.61it/s]\n",
      "Convergence achieved at 8800\n",
      "Interrupted at 8,799 [4%]: Average Loss = 16.251\n",
      "/home/tom/anaconda3/envs/bayesian-mfa-paper/lib/python3.7/site-packages/theano/tensor/subtensor.py:2339: FutureWarning: Using a non-tuple sequence for multidimensional indexing is deprecated; use `arr[tuple(seq)]` instead of `arr[seq]`. In the future this will be interpreted as an array index, `arr[np.array(seq)]`, which will result either in an error or a different result.\n",
      "  out[0][inputs[2:]] = inputs[1]\n",
      "/home/tom/anaconda3/envs/bayesian-mfa-paper/lib/python3.7/site-packages/theano/tensor/subtensor.py:2339: FutureWarning: Using a non-tuple sequence for multidimensional indexing is deprecated; use `arr[tuple(seq)]` instead of `arr[seq]`. In the future this will be interpreted as an array index, `arr[np.array(seq)]`, which will result either in an error or a different result.\n",
      "  out[0][inputs[2:]] = inputs[1]\n",
      "/home/tom/anaconda3/envs/bayesian-mfa-paper/lib/python3.7/site-packages/theano/tensor/subtensor.py:2197: FutureWarning: Using a non-tuple sequence for multidimensional indexing is deprecated; use `arr[tuple(seq)]` instead of `arr[seq]`. In the future this will be interpreted as an array index, `arr[np.array(seq)]`, which will result either in an error or a different result.\n",
      "  rval = inputs[0].__getitem__(inputs[1:])\n",
      "/home/tom/anaconda3/envs/bayesian-mfa-paper/lib/python3.7/site-packages/theano/tensor/subtensor.py:2339: FutureWarning: Using a non-tuple sequence for multidimensional indexing is deprecated; use `arr[tuple(seq)]` instead of `arr[seq]`. In the future this will be interpreted as an array index, `arr[np.array(seq)]`, which will result either in an error or a different result.\n",
      "  out[0][inputs[2:]] = inputs[1]\n",
      "/home/tom/anaconda3/envs/bayesian-mfa-paper/lib/python3.7/site-packages/theano/tensor/subtensor.py:2197: FutureWarning: Using a non-tuple sequence for multidimensional indexing is deprecated; use `arr[tuple(seq)]` instead of `arr[seq]`. In the future this will be interpreted as an array index, `arr[np.array(seq)]`, which will result either in an error or a different result.\n",
      "  rval = inputs[0].__getitem__(inputs[1:])\n",
      "Multiprocess sampling (2 chains in 2 jobs)\n",
      "NUTS: [Staf_1_2-2_1, P_2_1]\n",
      "Sampling 2 chains: 100%|██████████| 7000/7000 [00:26<00:00, 260.00draws/s]\n"
     ]
    }
   ],
   "source": [
    "sample_size = 3000\n",
    "\n",
    "with math_model.pm_model:\n",
    "    trace = pm.sample(sample_size, init='advi')\n"
   ]
  },
  {
   "cell_type": "code",
   "execution_count": 8,
   "metadata": {},
   "outputs": [
    {
     "name": "stderr",
     "output_type": "stream",
     "text": [
      "/home/tom/.local/lib/python3.7/site-packages/pymc3/tuning/starting.py:61: UserWarning: find_MAP should not be used to initialize the NUTS sampler, simply call pymc3.sample() and it will automatically initialize NUTS in a better way.\n",
      "  warnings.warn('find_MAP should not be used to initialize the NUTS sampler, simply call pymc3.sample() and it will automatically initialize NUTS in a better way.')\n",
      "/home/tom/anaconda3/envs/bayesian-mfa-paper/lib/python3.7/site-packages/theano/tensor/subtensor.py:2339: FutureWarning: Using a non-tuple sequence for multidimensional indexing is deprecated; use `arr[tuple(seq)]` instead of `arr[seq]`. In the future this will be interpreted as an array index, `arr[np.array(seq)]`, which will result either in an error or a different result.\n",
      "  out[0][inputs[2:]] = inputs[1]\n",
      "/home/tom/anaconda3/envs/bayesian-mfa-paper/lib/python3.7/site-packages/theano/tensor/subtensor.py:2197: FutureWarning: Using a non-tuple sequence for multidimensional indexing is deprecated; use `arr[tuple(seq)]` instead of `arr[seq]`. In the future this will be interpreted as an array index, `arr[np.array(seq)]`, which will result either in an error or a different result.\n",
      "  rval = inputs[0].__getitem__(inputs[1:])\n",
      "  0%|          | 0/5000 [00:00<?, ?it/s]/home/tom/anaconda3/envs/bayesian-mfa-paper/lib/python3.7/site-packages/theano/tensor/subtensor.py:2339: FutureWarning: Using a non-tuple sequence for multidimensional indexing is deprecated; use `arr[tuple(seq)]` instead of `arr[seq]`. In the future this will be interpreted as an array index, `arr[np.array(seq)]`, which will result either in an error or a different result.\n",
      "  out[0][inputs[2:]] = inputs[1]\n",
      "/home/tom/anaconda3/envs/bayesian-mfa-paper/lib/python3.7/site-packages/theano/tensor/subtensor.py:2197: FutureWarning: Using a non-tuple sequence for multidimensional indexing is deprecated; use `arr[tuple(seq)]` instead of `arr[seq]`. In the future this will be interpreted as an array index, `arr[np.array(seq)]`, which will result either in an error or a different result.\n",
      "  rval = inputs[0].__getitem__(inputs[1:])\n",
      "logp = -8.8661, ||grad|| = 0.0096761: 100%|██████████| 16/16 [00:00<00:00, 496.94it/s]  \n"
     ]
    }
   ],
   "source": [
    "map_estimate = pm.find_MAP(model=math_model.pm_model)"
   ]
  },
  {
   "cell_type": "code",
   "execution_count": 9,
   "metadata": {},
   "outputs": [
    {
     "name": "stdout",
     "output_type": "stream",
     "text": [
      "Estimates of: External Inflows\n",
      "\n",
      "Input Flow: Flow1: 100.00008444814534\n",
      "\n",
      "\n",
      "Estimates of: Internal Stafs\n",
      "\n",
      "\n",
      "\n",
      "Estimates of: External Outflows\n",
      "\n",
      "Output Flow: Stock1: 70.00007205619227\n",
      "TC: Stock1: 0.700000129424796\n",
      "Output Flow: Flow2: 30.000012391953085\n",
      "TC: Flow2: 0.2999998705752041\n",
      "\n",
      "\n"
     ]
    },
    {
     "data": {
      "image/png": "[encoded data removed]",
      "text/plain": [
       "<Figure size 648x216 with 1 Axes>"
      ]
     },
     "metadata": {
      "needs_background": "light"
     },
     "output_type": "display_data"
    },
    {
     "data": {
      "text/plain": [
       "<Figure size 648x0 with 0 Axes>"
      ]
     },
     "metadata": {},
     "output_type": "display_data"
    },
    {
     "data": {
      "image/png": "[encoded data removed]",
      "text/plain": [
       "<Figure size 648x432 with 4 Axes>"
      ]
     },
     "metadata": {
      "needs_background": "light"
     },
     "output_type": "display_data"
    }
   ],
   "source": [
    "display_parameters(external_inflows, internal_stafs, external_outflows, trace, map_estimate, math_model)"
   ]
  },
  {
   "cell_type": "code",
   "execution_count": 10,
   "metadata": {},
   "outputs": [],
   "source": [
    "import numpy as np\n"
   ]
  },
  {
   "cell_type": "code",
   "execution_count": 11,
   "metadata": {},
   "outputs": [],
   "source": [
    "stock_trace = trace[math_model.STAF_VAR_NAME]"
   ]
  },
  {
   "cell_type": "code",
   "execution_count": 46,
   "metadata": {},
   "outputs": [
    {
     "name": "stdout",
     "output_type": "stream",
     "text": [
      "69.75049179754555\n",
      "5.757564069618509\n"
     ]
    }
   ],
   "source": [
    "print(np.mean(stock_trace[:, 0, 2]))\n",
    "print(np.std(stock_trace[:, 0, 2]))"
   ]
  },
  {
   "cell_type": "code",
   "execution_count": 20,
   "metadata": {},
   "outputs": [
    {
     "data": {
      "text/html": [
       "<div>\n",
       "<style scoped>\n",
       "    .dataframe tbody tr th:only-of-type {\n",
       "        vertical-align: middle;\n",
       "    }\n",
       "\n",
       "    .dataframe tbody tr th {\n",
       "        vertical-align: top;\n",
       "    }\n",
       "\n",
       "    .dataframe thead th {\n",
       "        text-align: right;\n",
       "    }\n",
       "</style>\n",
       "<table border=\"1\" class=\"dataframe\">\n",
       "  <thead>\n",
       "    <tr style=\"text-align: right;\">\n",
       "      <th></th>\n",
       "      <th>mean</th>\n",
       "      <th>sd</th>\n",
       "      <th>mc_error</th>\n",
       "      <th>hpd_2.5</th>\n",
       "      <th>hpd_97.5</th>\n",
       "      <th>n_eff</th>\n",
       "      <th>Rhat</th>\n",
       "    </tr>\n",
       "  </thead>\n",
       "  <tbody>\n",
       "    <tr>\n",
       "      <th>Staf_1_2-2_1</th>\n",
       "      <td>99.812334</td>\n",
       "      <td>4.994784</td>\n",
       "      <td>0.114381</td>\n",
       "      <td>90.022055</td>\n",
       "      <td>109.497861</td>\n",
       "      <td>1525.381751</td>\n",
       "      <td>1.001109</td>\n",
       "    </tr>\n",
       "    <tr>\n",
       "      <th>P_2_1</th>\n",
       "      <td>0.301909</td>\n",
       "      <td>0.033348</td>\n",
       "      <td>0.000534</td>\n",
       "      <td>0.236573</td>\n",
       "      <td>0.367834</td>\n",
       "      <td>3481.247790</td>\n",
       "      <td>1.000441</td>\n",
       "    </tr>\n",
       "    <tr>\n",
       "      <th>TCs__0_0</th>\n",
       "      <td>0.000000</td>\n",
       "      <td>0.000000</td>\n",
       "      <td>0.000000</td>\n",
       "      <td>0.000000</td>\n",
       "      <td>0.000000</td>\n",
       "      <td>NaN</td>\n",
       "      <td>NaN</td>\n",
       "    </tr>\n",
       "    <tr>\n",
       "      <th>TCs__0_1</th>\n",
       "      <td>0.301909</td>\n",
       "      <td>0.033348</td>\n",
       "      <td>0.000534</td>\n",
       "      <td>0.236573</td>\n",
       "      <td>0.367834</td>\n",
       "      <td>3481.247790</td>\n",
       "      <td>1.000441</td>\n",
       "    </tr>\n",
       "    <tr>\n",
       "      <th>TCs__0_2</th>\n",
       "      <td>0.698091</td>\n",
       "      <td>0.033348</td>\n",
       "      <td>0.000534</td>\n",
       "      <td>0.632166</td>\n",
       "      <td>0.763427</td>\n",
       "      <td>3481.247790</td>\n",
       "      <td>1.000441</td>\n",
       "    </tr>\n",
       "    <tr>\n",
       "      <th>TCs__1_0</th>\n",
       "      <td>0.000000</td>\n",
       "      <td>0.000000</td>\n",
       "      <td>0.000000</td>\n",
       "      <td>0.000000</td>\n",
       "      <td>0.000000</td>\n",
       "      <td>NaN</td>\n",
       "      <td>NaN</td>\n",
       "    </tr>\n",
       "    <tr>\n",
       "      <th>TCs__1_1</th>\n",
       "      <td>0.000000</td>\n",
       "      <td>0.000000</td>\n",
       "      <td>0.000000</td>\n",
       "      <td>0.000000</td>\n",
       "      <td>0.000000</td>\n",
       "      <td>NaN</td>\n",
       "      <td>NaN</td>\n",
       "    </tr>\n",
       "    <tr>\n",
       "      <th>TCs__1_2</th>\n",
       "      <td>0.000000</td>\n",
       "      <td>0.000000</td>\n",
       "      <td>0.000000</td>\n",
       "      <td>0.000000</td>\n",
       "      <td>0.000000</td>\n",
       "      <td>NaN</td>\n",
       "      <td>NaN</td>\n",
       "    </tr>\n",
       "    <tr>\n",
       "      <th>TCs__2_0</th>\n",
       "      <td>0.000000</td>\n",
       "      <td>0.000000</td>\n",
       "      <td>0.000000</td>\n",
       "      <td>0.000000</td>\n",
       "      <td>0.000000</td>\n",
       "      <td>NaN</td>\n",
       "      <td>NaN</td>\n",
       "    </tr>\n",
       "    <tr>\n",
       "      <th>TCs__2_1</th>\n",
       "      <td>0.000000</td>\n",
       "      <td>0.000000</td>\n",
       "      <td>0.000000</td>\n",
       "      <td>0.000000</td>\n",
       "      <td>0.000000</td>\n",
       "      <td>NaN</td>\n",
       "      <td>NaN</td>\n",
       "    </tr>\n",
       "    <tr>\n",
       "      <th>TCs__2_2</th>\n",
       "      <td>0.000000</td>\n",
       "      <td>0.000000</td>\n",
       "      <td>0.000000</td>\n",
       "      <td>0.000000</td>\n",
       "      <td>0.000000</td>\n",
       "      <td>NaN</td>\n",
       "      <td>NaN</td>\n",
       "    </tr>\n",
       "    <tr>\n",
       "      <th>Inputs__0_0</th>\n",
       "      <td>99.812334</td>\n",
       "      <td>4.994784</td>\n",
       "      <td>0.114381</td>\n",
       "      <td>90.022055</td>\n",
       "      <td>109.497861</td>\n",
       "      <td>1525.381751</td>\n",
       "      <td>1.001109</td>\n",
       "    </tr>\n",
       "    <tr>\n",
       "      <th>Inputs__1_0</th>\n",
       "      <td>0.000000</td>\n",
       "      <td>0.000000</td>\n",
       "      <td>0.000000</td>\n",
       "      <td>0.000000</td>\n",
       "      <td>0.000000</td>\n",
       "      <td>NaN</td>\n",
       "      <td>NaN</td>\n",
       "    </tr>\n",
       "    <tr>\n",
       "      <th>Inputs__2_0</th>\n",
       "      <td>0.000000</td>\n",
       "      <td>0.000000</td>\n",
       "      <td>0.000000</td>\n",
       "      <td>0.000000</td>\n",
       "      <td>0.000000</td>\n",
       "      <td>NaN</td>\n",
       "      <td>NaN</td>\n",
       "    </tr>\n",
       "    <tr>\n",
       "      <th>Stafs__0_0</th>\n",
       "      <td>0.000000</td>\n",
       "      <td>0.000000</td>\n",
       "      <td>0.000000</td>\n",
       "      <td>0.000000</td>\n",
       "      <td>0.000000</td>\n",
       "      <td>NaN</td>\n",
       "      <td>NaN</td>\n",
       "    </tr>\n",
       "    <tr>\n",
       "      <th>Stafs__0_1</th>\n",
       "      <td>30.061843</td>\n",
       "      <td>2.985463</td>\n",
       "      <td>0.035879</td>\n",
       "      <td>24.348672</td>\n",
       "      <td>35.945191</td>\n",
       "      <td>5869.070419</td>\n",
       "      <td>0.999888</td>\n",
       "    </tr>\n",
       "    <tr>\n",
       "      <th>Stafs__0_2</th>\n",
       "      <td>69.750492</td>\n",
       "      <td>5.757564</td>\n",
       "      <td>0.123723</td>\n",
       "      <td>58.750110</td>\n",
       "      <td>81.138967</td>\n",
       "      <td>1799.967462</td>\n",
       "      <td>1.001045</td>\n",
       "    </tr>\n",
       "    <tr>\n",
       "      <th>Stafs__1_0</th>\n",
       "      <td>0.000000</td>\n",
       "      <td>0.000000</td>\n",
       "      <td>0.000000</td>\n",
       "      <td>0.000000</td>\n",
       "      <td>0.000000</td>\n",
       "      <td>NaN</td>\n",
       "      <td>NaN</td>\n",
       "    </tr>\n",
       "    <tr>\n",
       "      <th>Stafs__1_1</th>\n",
       "      <td>0.000000</td>\n",
       "      <td>0.000000</td>\n",
       "      <td>0.000000</td>\n",
       "      <td>0.000000</td>\n",
       "      <td>0.000000</td>\n",
       "      <td>NaN</td>\n",
       "      <td>NaN</td>\n",
       "    </tr>\n",
       "    <tr>\n",
       "      <th>Stafs__1_2</th>\n",
       "      <td>0.000000</td>\n",
       "      <td>0.000000</td>\n",
       "      <td>0.000000</td>\n",
       "      <td>0.000000</td>\n",
       "      <td>0.000000</td>\n",
       "      <td>NaN</td>\n",
       "      <td>NaN</td>\n",
       "    </tr>\n",
       "    <tr>\n",
       "      <th>Stafs__2_0</th>\n",
       "      <td>0.000000</td>\n",
       "      <td>0.000000</td>\n",
       "      <td>0.000000</td>\n",
       "      <td>0.000000</td>\n",
       "      <td>0.000000</td>\n",
       "      <td>NaN</td>\n",
       "      <td>NaN</td>\n",
       "    </tr>\n",
       "    <tr>\n",
       "      <th>Stafs__2_1</th>\n",
       "      <td>0.000000</td>\n",
       "      <td>0.000000</td>\n",
       "      <td>0.000000</td>\n",
       "      <td>0.000000</td>\n",
       "      <td>0.000000</td>\n",
       "      <td>NaN</td>\n",
       "      <td>NaN</td>\n",
       "    </tr>\n",
       "    <tr>\n",
       "      <th>Stafs__2_2</th>\n",
       "      <td>0.000000</td>\n",
       "      <td>0.000000</td>\n",
       "      <td>0.000000</td>\n",
       "      <td>0.000000</td>\n",
       "      <td>0.000000</td>\n",
       "      <td>NaN</td>\n",
       "      <td>NaN</td>\n",
       "    </tr>\n",
       "    <tr>\n",
       "      <th>normal_staf_obs_eqs__0</th>\n",
       "      <td>30.061843</td>\n",
       "      <td>2.985463</td>\n",
       "      <td>0.035879</td>\n",
       "      <td>24.348672</td>\n",
       "      <td>35.945191</td>\n",
       "      <td>5869.070419</td>\n",
       "      <td>0.999888</td>\n",
       "    </tr>\n",
       "    <tr>\n",
       "      <th>normal_staf_obs_eqs__1</th>\n",
       "      <td>69.750492</td>\n",
       "      <td>5.757564</td>\n",
       "      <td>0.123723</td>\n",
       "      <td>58.750110</td>\n",
       "      <td>81.138967</td>\n",
       "      <td>1799.967462</td>\n",
       "      <td>1.001045</td>\n",
       "    </tr>\n",
       "  </tbody>\n",
       "</table>\n",
       "</div>"
      ],
      "text/plain": [
       "                             mean        sd  mc_error    hpd_2.5    hpd_97.5  \\\n",
       "Staf_1_2-2_1            99.812334  4.994784  0.114381  90.022055  109.497861   \n",
       "P_2_1                    0.301909  0.033348  0.000534   0.236573    0.367834   \n",
       "TCs__0_0                 0.000000  0.000000  0.000000   0.000000    0.000000   \n",
       "TCs__0_1                 0.301909  0.033348  0.000534   0.236573    0.367834   \n",
       "TCs__0_2                 0.698091  0.033348  0.000534   0.632166    0.763427   \n",
       "TCs__1_0                 0.000000  0.000000  0.000000   0.000000    0.000000   \n",
       "TCs__1_1                 0.000000  0.000000  0.000000   0.000000    0.000000   \n",
       "TCs__1_2                 0.000000  0.000000  0.000000   0.000000    0.000000   \n",
       "TCs__2_0                 0.000000  0.000000  0.000000   0.000000    0.000000   \n",
       "TCs__2_1                 0.000000  0.000000  0.000000   0.000000    0.000000   \n",
       "TCs__2_2                 0.000000  0.000000  0.000000   0.000000    0.000000   \n",
       "Inputs__0_0             99.812334  4.994784  0.114381  90.022055  109.497861   \n",
       "Inputs__1_0              0.000000  0.000000  0.000000   0.000000    0.000000   \n",
       "Inputs__2_0              0.000000  0.000000  0.000000   0.000000    0.000000   \n",
       "Stafs__0_0               0.000000  0.000000  0.000000   0.000000    0.000000   \n",
       "Stafs__0_1              30.061843  2.985463  0.035879  24.348672   35.945191   \n",
       "Stafs__0_2              69.750492  5.757564  0.123723  58.750110   81.138967   \n",
       "Stafs__1_0               0.000000  0.000000  0.000000   0.000000    0.000000   \n",
       "Stafs__1_1               0.000000  0.000000  0.000000   0.000000    0.000000   \n",
       "Stafs__1_2               0.000000  0.000000  0.000000   0.000000    0.000000   \n",
       "Stafs__2_0               0.000000  0.000000  0.000000   0.000000    0.000000   \n",
       "Stafs__2_1               0.000000  0.000000  0.000000   0.000000    0.000000   \n",
       "Stafs__2_2               0.000000  0.000000  0.000000   0.000000    0.000000   \n",
       "normal_staf_obs_eqs__0  30.061843  2.985463  0.035879  24.348672   35.945191   \n",
       "normal_staf_obs_eqs__1  69.750492  5.757564  0.123723  58.750110   81.138967   \n",
       "\n",
       "                              n_eff      Rhat  \n",
       "Staf_1_2-2_1            1525.381751  1.001109  \n",
       "P_2_1                   3481.247790  1.000441  \n",
       "TCs__0_0                        NaN       NaN  \n",
       "TCs__0_1                3481.247790  1.000441  \n",
       "TCs__0_2                3481.247790  1.000441  \n",
       "TCs__1_0                        NaN       NaN  \n",
       "TCs__1_1                        NaN       NaN  \n",
       "TCs__1_2                        NaN       NaN  \n",
       "TCs__2_0                        NaN       NaN  \n",
       "TCs__2_1                        NaN       NaN  \n",
       "TCs__2_2                        NaN       NaN  \n",
       "Inputs__0_0             1525.381751  1.001109  \n",
       "Inputs__1_0                     NaN       NaN  \n",
       "Inputs__2_0                     NaN       NaN  \n",
       "Stafs__0_0                      NaN       NaN  \n",
       "Stafs__0_1              5869.070419  0.999888  \n",
       "Stafs__0_2              1799.967462  1.001045  \n",
       "Stafs__1_0                      NaN       NaN  \n",
       "Stafs__1_1                      NaN       NaN  \n",
       "Stafs__1_2                      NaN       NaN  \n",
       "Stafs__2_0                      NaN       NaN  \n",
       "Stafs__2_1                      NaN       NaN  \n",
       "Stafs__2_2                      NaN       NaN  \n",
       "normal_staf_obs_eqs__0  5869.070419  0.999888  \n",
       "normal_staf_obs_eqs__1  1799.967462  1.001045  "
      ]
     },
     "execution_count": 20,
     "metadata": {},
     "output_type": "execute_result"
    }
   ],
   "source": [
    "pm.summary(trace)"
   ]
  },
  {
   "cell_type": "code",
   "execution_count": null,
   "metadata": {},
   "outputs": [],
   "source": []
  }
 ],
 "metadata": {
  "kernelspec": {
   "display_name": "Python 3",
   "language": "python",
   "name": "python3"
  },
  "language_info": {
   "codemirror_mode": {
    "name": "ipython",
    "version": 3
   },
   "file_extension": ".py",
   "mimetype": "text/x-python",
   "name": "python",
   "nbconvert_exporter": "python",
   "pygments_lexer": "ipython3",
   "version": "3.7.2"
  }
 },
 "nbformat": 4,
 "nbformat_minor": 2
}
