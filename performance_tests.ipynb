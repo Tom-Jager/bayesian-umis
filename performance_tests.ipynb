{
 "cells": [
  {
   "cell_type": "code",
   "execution_count": 1,
   "metadata": {},
   "outputs": [
    {
     "name": "stderr",
     "output_type": "stream",
     "text": [
      "WARNING (theano.tensor.blas): Using NumPy C-API based implementation for BLAS functions.\n"
     ]
    }
   ],
   "source": [
    "import csv\n",
    "import pickle\n",
    "from time import time\n",
    "\n",
    "\n",
    "import pymc3 as pm\n",
    "import pandas as pd\n",
    "from pandas import DataFrame\n",
    "import theano\n",
    "from scipy.stats import norm\n",
    "import numpy as np\n",
    "import matplotlib.pyplot as plt\n",
    "\n",
    "from bayesumis.umis_math_model import UmisMathModel\n",
    "from bayesumis.umis_diagram import UmisDiagram\n",
    "from testhelper.test_helper import end_timer, DbStub\n",
    "from testhelper import umis_builders\n",
    "from testhelper.posterior_plotters import display_parameters, print_umis_diagram\n",
    "\n",
    "theano.config.mode = 'FAST_RUN'\n",
    "theano.config.optimizer = 'fast_compile'\n",
    "\n",
    "test_db = DbStub()"
   ]
  },
  {
   "cell_type": "code",
   "execution_count": 2,
   "metadata": {},
   "outputs": [],
   "source": [
    "def time_run(math_model):\n",
    "    sample_size = 3000\n",
    "    start_time = time()\n",
    "\n",
    "    with math_model.pm_model:\n",
    "        trace = pm.sample(sample_size, init='adapt_diag')\n",
    "    end_time = time()\n",
    "    return (end_time-start_time, trace)\n",
    "\n",
    "    "
   ]
  },
  {
   "cell_type": "code",
   "execution_count": 3,
   "metadata": {},
   "outputs": [],
   "source": [
    "def build_math_model(umis_diagram, ref_material, ref_time):\n",
    "    res_inflows = umis_diagram.get_external_inflows()\n",
    "    res_outflows = umis_diagram.get_external_outflows()\n",
    "    res_dict = umis_diagram.get_process_stafs_dict()\n",
    "    \n",
    "    math_model = UmisMathModel(\n",
    "        res_inflows,\n",
    "        res_dict,\n",
    "        res_outflows,\n",
    "        ref_material,\n",
    "        ref_time,\n",
    "        {},\n",
    "        {})\n",
    "    \n",
    "    return math_model"
   ]
  },
  {
   "cell_type": "code",
   "execution_count": 24,
   "metadata": {},
   "outputs": [],
   "source": [
    "def build_subsystems_math_models(n):\n",
    "\n",
    "    ref_material = test_db.get_material_by_num(1)\n",
    "    ref_time = test_db.get_time_by_num(1)\n",
    "    \n",
    "    math_models = []\n",
    "    for i in range(0,n):\n",
    "        \n",
    "        (external_inflows,\n",
    "         internal_flows,\n",
    "         external_outflows,\n",
    "         stocks,\n",
    "         material_reconc_table,\n",
    "         tc_obs) = umis_builders.get_umis_diagram_subsystems_test(23)\n",
    "        \n",
    "        internal_stafs = set.union(internal_flows, stocks)\n",
    "        \n",
    "        umis_diagram = UmisDiagram(\n",
    "            external_inflows,\n",
    "            internal_stafs,\n",
    "            external_outflows)\n",
    "        \n",
    "        math_model = build_math_model(umis_diagram, ref_material, ref_time)\n",
    "        \n",
    "        math_models.append(math_model)\n",
    "        \n",
    "    return math_models"
   ]
  },
  {
   "cell_type": "code",
   "execution_count": 25,
   "metadata": {},
   "outputs": [
    {
     "name": "stdout",
     "output_type": "stream",
     "text": [
      "Model built Tue 22:18\n"
     ]
    },
    {
     "name": "stderr",
     "output_type": "stream",
     "text": [
      "Auto-assigning NUTS sampler...\n",
      "Initializing NUTS using adapt_diag...\n",
      "/home/tom/anaconda3/envs/bayesian-umis/lib/python3.7/site-packages/theano/tensor/subtensor.py:2339: FutureWarning: Using a non-tuple sequence for multidimensional indexing is deprecated; use `arr[tuple(seq)]` instead of `arr[seq]`. In the future this will be interpreted as an array index, `arr[np.array(seq)]`, which will result either in an error or a different result.\n",
      "  out[0][inputs[2:]] = inputs[1]\n",
      "/home/tom/anaconda3/envs/bayesian-umis/lib/python3.7/site-packages/theano/tensor/subtensor.py:2197: FutureWarning: Using a non-tuple sequence for multidimensional indexing is deprecated; use `arr[tuple(seq)]` instead of `arr[seq]`. In the future this will be interpreted as an array index, `arr[np.array(seq)]`, which will result either in an error or a different result.\n",
      "  rval = inputs[0].__getitem__(inputs[1:])\n",
      "Multiprocess sampling (2 chains in 2 jobs)\n",
      "NUTS: [Inflow-P17_Sp2_P18_Sp1, Inflow-P81_Sp2_P82_Sp1, Inflow-P1_Sp2_P2_Sp1, Inflow-P9_Sp2_P10_Sp1, Inflow-P13_Sp2_P14_Sp1, Inflow-P69_Sp2_P70_Sp1, Inflow-P89_Sp2_P90_Sp1, Inflow-P37_Sp2_P38_Sp1, Inflow-P21_Sp2_P22_Sp1, Inflow-P25_Sp2_P26_Sp1, Inflow-P85_Sp2_P86_Sp1, Inflow-P49_Sp2_P50_Sp1, Inflow-P29_Sp2_P30_Sp1, Inflow-P57_Sp2_P58_Sp1, Inflow-P77_Sp2_P78_Sp1, Inflow-P65_Sp2_P66_Sp1, Inflow-P61_Sp2_P62_Sp1, Inflow-P45_Sp2_P46_Sp1, Inflow-P53_Sp2_P54_Sp1, Inflow-P5_Sp2_P6_Sp1, Inflow-P33_Sp2_P34_Sp1, Inflow-P41_Sp2_P42_Sp1, Inflow-P73_Sp2_P74_Sp1, P_P23_Sp1, P_P71_Sp1, P_P79_Sp1, P_P47_Sp1, P_P31_Sp1, P_P39_Sp1, P_P19_Sp1, P_P27_Sp1, P_P83_Sp1, P_P87_Sp1, P_P55_Sp1, P_P3_Sp1, P_P51_Sp1, P_P15_Sp1, P_P75_Sp1, P_P11_Sp1, P_P67_Sp1, P_P63_Sp1, P_P59_Sp1, P_P7_Sp1, P_P35_Sp1, P_P43_Sp1, P_P91_Sp1]\n",
      "Sampling 2 chains: 100%|██████████| 7000/7000 [33:34<00:00,  5.60draws/s] \n"
     ]
    },
    {
     "name": "stdout",
     "output_type": "stream",
     "text": [
      "Time taken: 2100.0986137390137\n",
      "Num Processes: 23\n",
      "Mean Acceptance Probability: 0.831680436387726\n"
     ]
    }
   ],
   "source": [
    "def run_subsystems_test(n):\n",
    "\n",
    "    subsystem_math_models = build_subsystems_math_models(n)\n",
    "\n",
    "    for j in range(0,1):\n",
    "        filename = \"subsystems_test_1_{}.csv\".format(j)\n",
    "#         with open(filename, 'w') as csvfile:\n",
    "#             csvwriter = csv.writer(csvfile, delimiter=',',\n",
    "#                                 quotechar='|', quoting=csv.QUOTE_MINIMAL)\n",
    "#             csvwriter.writerow(['time', 'n_subsystems', 'mean_accept_probability'])\n",
    "\n",
    "\n",
    "        for i, math_model in enumerate(subsystem_math_models):\n",
    "            try:\n",
    "#                 num_processes = i*2+1\n",
    "                num_processes = 23\n",
    "                time_taken, trace = time_run(math_model)\n",
    "                \n",
    "                accept = trace.get_sampler_stats('mean_tree_accept')\n",
    "                accept_mean = accept.mean()\n",
    "                print(\"Time taken: {}\".format(time_taken))\n",
    "                print(\"Num Processes: {}\".format(num_processes))\n",
    "                print(\"Mean Acceptance Probability: {}\".format(accept_mean))\n",
    "                with open(filename, 'a') as csvfile:\n",
    "                    csvwriter = csv.writer(csvfile, delimiter=',',\n",
    "                                        quotechar='|', quoting=csv.QUOTE_MINIMAL)\n",
    "                    csvwriter.writerow([time_taken, num_processes, accept_mean])\n",
    "                    \n",
    "                with open('performance_traces/trace-{}-{}.pickle'.format(j, i), 'wb') as f:\n",
    "                    pickle.dump(trace, f)\n",
    "\n",
    "            except Exception as e:\n",
    "                print(\"-------------------\")\n",
    "                print(\"Time taken: {}\".format(time_taken))\n",
    "                print(\"Num Processes: {}\".format(num_processes))\n",
    "                print(\"Mean Acceptance Probability: {}\".format(accept_mean))\n",
    "                print(\"-------------------\")\n",
    "                print(\"Failed because of {}\".format(e))\n",
    "\n",
    "run_subsystems_test(1)\n",
    "    "
   ]
  },
  {
   "cell_type": "code",
   "execution_count": 7,
   "metadata": {},
   "outputs": [],
   "source": [
    "# with open('performance_traces/test_trace.pickle', 'rb') as f:\n",
    "#     read_pickle = pickle.load(f)\n",
    "    \n",
    "# print(\"Read pickle: {}\".format(read_pickle))"
   ]
  },
  {
   "cell_type": "code",
   "execution_count": 8,
   "metadata": {},
   "outputs": [],
   "source": [
    "# help(DataFrame.from_csv)"
   ]
  },
  {
   "cell_type": "code",
   "execution_count": 13,
   "metadata": {},
   "outputs": [
    {
     "name": "stdout",
     "output_type": "stream",
     "text": [
      "           time  n_subsystems  mean_accept_probability  num_processes\n",
      "0     35.932245             1                 0.866873              3\n",
      "1    105.704473             3                 0.850108              9\n",
      "2    169.778657             5                 0.843185             15\n",
      "3    266.270517             7                 0.835301             21\n",
      "4    558.554099             9                 0.838775             27\n",
      "5   1024.610578            11                 0.820907             33\n",
      "6    510.584566            13                 0.815516             39\n",
      "7    864.309991            15                 0.824238             45\n",
      "8   1537.192194            17                 0.826092             51\n",
      "9   1899.350182            19                 0.818771             57\n",
      "10  2299.919543            21                 0.812625             63\n"
     ]
    }
   ],
   "source": [
    "def read_performance_results_into_dataframe(n):\n",
    "    num_subsystems = [p*2+1 for p in range(0,n)]\n",
    "    num_processes = [3 * (p*2 + 1) for p in range(0,n)]\n",
    "#     num_flows = [4 * (p*2 + 1) for p in range(0,n)]\n",
    "#     num_tcs = [2 * (p*2 + 1) for p in range(0,n)]\n",
    "#     full_df = DataFrame(\n",
    "#         {\n",
    "#             'num_subsystems': num_subsystems,\n",
    "#             'num_processes': num_processes,\n",
    "#             'num_flows': num_flows,\n",
    "#             'num_tcs': num_tcs\n",
    "#         })\n",
    "#     full_df = full_df.set_index('num_subsystems')\n",
    "#     for i in range(0,3):\n",
    "#         file_name = 'subsystems_test_1{}.csv'.format(i)\n",
    "#         t_df = pd.read_csv(file_name, header=0, index_col=1, names=['time_{}'.format(i), 'num_subsystems'])\n",
    "#         full_df = pd.merge(full_df, t_df, on='num_subsystems')\n",
    "\n",
    "    \n",
    "#     df_average = full_df.copy()\n",
    "# #     print(df_average[['time_0', 'time_1', 'time_2']])\n",
    "#     df_average['average'] = df_average[['time_0', 'time_1', 'time_2']].mean(axis=1)\n",
    "\n",
    "    df_average = pd.read_csv('subsystems_test_1_0.csv')\n",
    "    df_num_processes = DataFrame({'num_processes': num_processes, 'n_subsystems': num_subsystems})\n",
    "    df_average = pd.merge(df_average, df_num_processes)\n",
    "    return df_average\n",
    "    \n",
    "df_average = read_performance_results_into_dataframe(11)\n",
    "print(df_average)       "
   ]
  },
  {
   "cell_type": "code",
   "execution_count": 29,
   "metadata": {},
   "outputs": [
    {
     "name": "stdout",
     "output_type": "stream",
     "text": [
      "           time  n_subsystems  mean_accept_probability  num_processes  \\\n",
      "0     35.932245             1                 0.866873              3   \n",
      "1    105.704473             3                 0.850108              9   \n",
      "2    169.778657             5                 0.843185             15   \n",
      "3    266.270517             7                 0.835301             21   \n",
      "4    558.554099             9                 0.838775             27   \n",
      "5   1024.610578            11                 0.820907             33   \n",
      "6    510.584566            13                 0.815516             39   \n",
      "7    864.309991            15                 0.824238             45   \n",
      "8   1537.192194            17                 0.826092             51   \n",
      "9   1899.350182            19                 0.818771             57   \n",
      "10  2299.919543            21                 0.812625             63   \n",
      "\n",
      "    num_stafs  \n",
      "0           4  \n",
      "1          12  \n",
      "2          20  \n",
      "3          28  \n",
      "4          36  \n",
      "5          44  \n",
      "6          52  \n",
      "7          60  \n",
      "8          68  \n",
      "9          76  \n",
      "10         84  \n"
     ]
    }
   ],
   "source": [
    "# print(df_average)\n",
    "num_subsystems = [p*2+1 for p in range(0,11)]\n",
    "num_stafs = [4 * (p*2 + 1) for p in range(0,11)]\n",
    "df_num_stafs = DataFrame({'num_stafs': num_stafs, 'n_subsystems': num_subsystems})\n",
    "\n",
    "df_average = pd.merge(df_average, df_num_stafs)\n",
    "print(df_average)"
   ]
  },
  {
   "cell_type": "code",
   "execution_count": 30,
   "metadata": {},
   "outputs": [
    {
     "data": {
      "text/plain": [
       "<Figure size 432x288 with 0 Axes>"
      ]
     },
     "metadata": {},
     "output_type": "display_data"
    },
    {
     "data": {
      "image/png": "[encoded data removed]",
      "text/plain": [
       "<Figure size 432x288 with 1 Axes>"
      ]
     },
     "metadata": {
      "needs_background": "light"
     },
     "output_type": "display_data"
    },
    {
     "data": {
      "text/plain": [
       "<Figure size 432x288 with 0 Axes>"
      ]
     },
     "metadata": {},
     "output_type": "display_data"
    },
    {
     "data": {
      "image/png": "[encoded data removed]",
      "text/plain": [
       "<Figure size 432x288 with 1 Axes>"
      ]
     },
     "metadata": {
      "needs_background": "light"
     },
     "output_type": "display_data"
    }
   ],
   "source": [
    "def plot_times(df):\n",
    "#     df = df.loc['num_subsystems']\n",
    "#     print(df.keys())\n",
    "    fig = plt.figure()\n",
    "    ax = df.plot(x='num_stafs', y='time', legend=None)\n",
    "    for i in range(1,8):\n",
    "        y = i*300\n",
    "        ax.axhline(y, color='r', linewidth=1)\n",
    "    ax.set_ylabel('Time (s)')\n",
    "    ax.set_xlabel('Number of Stafs')\n",
    "    ax.set_title(\"Run Time of MCMC Sampling vs. Input System Size\")\n",
    "#     fig = plt.figure()\n",
    "#     ax = df.plot(x='num_flows', y='average')\n",
    "#     ax.set_ylabel('Time (s)')\n",
    "#     ax.set_xlabel('Number of Flows')\n",
    "    \n",
    "    fig = plt.figure()\n",
    "    ax = df.plot(x='num_stafs', y='mean_accept_probability', legend=None)\n",
    "    ax.set_ylabel('Mean Accept Probability')\n",
    "    ax.set_xlabel('Number of Stafs')\n",
    "    ax.set_title(\"Mean Acceptance Probability of MCMC Sampler vs. Input System Size\")\n",
    "    \n",
    "    \n",
    "#     plt.show()\n",
    "    \n",
    "plot_times(df_average)"
   ]
  },
  {
   "cell_type": "code",
   "execution_count": null,
   "metadata": {},
   "outputs": [],
   "source": []
  }
 ],
 "metadata": {
  "kernelspec": {
   "display_name": "Python 3",
   "language": "python",
   "name": "python3"
  },
  "language_info": {
   "codemirror_mode": {
    "name": "ipython",
    "version": 3
   },
   "file_extension": ".py",
   "mimetype": "text/x-python",
   "name": "python",
   "nbconvert_exporter": "python",
   "pygments_lexer": "ipython3",
   "version": "3.7.3"
  }
 },
 "nbformat": 4,
 "nbformat_minor": 2
}
